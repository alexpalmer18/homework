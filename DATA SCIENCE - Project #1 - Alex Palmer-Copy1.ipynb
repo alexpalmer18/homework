{
 "cells": [
  {
   "cell_type": "markdown",
   "metadata": {
    "deletable": true,
    "editable": true
   },
   "source": [
    "# Project 1\n",
    "\n",
    "In this first project you will create a framework to scope out data science projects. This framework will provide you with a guide to develop a well-articulated problem statement and analysis plan that will be robust and reproducible."
   ]
  },
  {
   "cell_type": "markdown",
   "metadata": {
    "deletable": true,
    "editable": true
   },
   "source": [
    "### Read and evaluate the following problem statement: \n",
    "Determine which free-tier customers will covert to paying customers, using demographic data collected at signup (age, gender, location, and profession) and customer useage data (days since last log in, and activity score 1 = active user, 0= inactive user) based on Hooli data from Jan-Apr 2015. \n"
   ]
  },
  {
   "cell_type": "markdown",
   "metadata": {
    "deletable": true,
    "editable": true
   },
   "source": [
    "#### 1. What is the outcome?"
   ]
  },
  {
   "cell_type": "markdown",
   "metadata": {
    "deletable": true,
    "editable": true
   },
   "source": [
    "Answer: Probability of a free-tier customer converting into a paying customer."
   ]
  },
  {
   "cell_type": "markdown",
   "metadata": {
    "deletable": true,
    "editable": true
   },
   "source": [
    "#### 2. What are the predictors/covariates? "
   ]
  },
  {
   "cell_type": "markdown",
   "metadata": {
    "deletable": true,
    "editable": true
   },
   "source": [
    "Answer: Days since last log in, activity score and the demographic data (age, gender, location, profession)."
   ]
  },
  {
   "cell_type": "markdown",
   "metadata": {
    "deletable": true,
    "editable": true
   },
   "source": [
    "#### 3. What timeframe is this data relevent for?"
   ]
  },
  {
   "cell_type": "markdown",
   "metadata": {
    "deletable": true,
    "editable": true
   },
   "source": [
    "Answer: Jan-Apr 2015"
   ]
  },
  {
   "cell_type": "markdown",
   "metadata": {
    "deletable": true,
    "editable": true
   },
   "source": [
    "#### 4. What is the hypothesis?"
   ]
  },
  {
   "cell_type": "markdown",
   "metadata": {
    "deletable": true,
    "editable": true
   },
   "source": [
    "Answer: More active free-tier users will convert into paying customers."
   ]
  },
  {
   "cell_type": "markdown",
   "metadata": {
    "deletable": true,
    "editable": true
   },
   "source": [
    "## Let's test your knowledge of pandas"
   ]
  },
  {
   "cell_type": "markdown",
   "metadata": {
    "collapsed": true,
    "deletable": true,
    "editable": true
   },
   "source": [
    "#### 1. Load the dataset from assets/admissions.csv"
   ]
  },
  {
   "cell_type": "code",
   "execution_count": 3,
   "metadata": {
    "collapsed": false
   },
   "outputs": [
    {
     "data": {
      "text/html": [
       "<div>\n",
       "<table border=\"1\" class=\"dataframe\">\n",
       "  <thead>\n",
       "    <tr style=\"text-align: right;\">\n",
       "      <th></th>\n",
       "      <th>admit</th>\n",
       "      <th>gre</th>\n",
       "      <th>gpa</th>\n",
       "      <th>prestige</th>\n",
       "    </tr>\n",
       "  </thead>\n",
       "  <tbody>\n",
       "    <tr>\n",
       "      <th>0</th>\n",
       "      <td>0</td>\n",
       "      <td>380.0</td>\n",
       "      <td>3.61</td>\n",
       "      <td>3.0</td>\n",
       "    </tr>\n",
       "    <tr>\n",
       "      <th>1</th>\n",
       "      <td>1</td>\n",
       "      <td>660.0</td>\n",
       "      <td>3.67</td>\n",
       "      <td>3.0</td>\n",
       "    </tr>\n",
       "    <tr>\n",
       "      <th>2</th>\n",
       "      <td>1</td>\n",
       "      <td>800.0</td>\n",
       "      <td>4.00</td>\n",
       "      <td>1.0</td>\n",
       "    </tr>\n",
       "    <tr>\n",
       "      <th>3</th>\n",
       "      <td>1</td>\n",
       "      <td>640.0</td>\n",
       "      <td>3.19</td>\n",
       "      <td>4.0</td>\n",
       "    </tr>\n",
       "    <tr>\n",
       "      <th>4</th>\n",
       "      <td>0</td>\n",
       "      <td>520.0</td>\n",
       "      <td>2.93</td>\n",
       "      <td>4.0</td>\n",
       "    </tr>\n",
       "  </tbody>\n",
       "</table>\n",
       "</div>"
      ],
      "text/plain": [
       "   admit    gre   gpa  prestige\n",
       "0      0  380.0  3.61       3.0\n",
       "1      1  660.0  3.67       3.0\n",
       "2      1  800.0  4.00       1.0\n",
       "3      1  640.0  3.19       4.0\n",
       "4      0  520.0  2.93       4.0"
      ]
     },
     "execution_count": 3,
     "metadata": {},
     "output_type": "execute_result"
    }
   ],
   "source": [
    "import pandas as pd\n",
    "import numpy as np\n",
    "\n",
    "location = \"/Users/Alex/Desktop/Data Science/GENERAL ASSEMBLY COURSE - DATA SCIENCE/Project #1 - admissions/admissions_data.csv\"\n",
    "\n",
    "df = pd.read_csv(location)\n",
    "\n",
    "df.head()"
   ]
  },
  {
   "cell_type": "markdown",
   "metadata": {},
   "source": [
    "#### 2. Uh oh, you weren't given a data dictionary! Try to determine what 0/1 refer to in the admit column. Explain your logic. (You may assume that higher GPA's and GRE scores are better)"
   ]
  },
  {
   "cell_type": "code",
   "execution_count": 17,
   "metadata": {
    "collapsed": false
   },
   "outputs": [
    {
     "name": "stdout",
     "output_type": "stream",
     "text": [
      "Overall GPA - Mean\n",
      "3.3909296482412077\n",
      "\n",
      "Overall GRE - Mean\n",
      "588.0402010050251\n",
      "\n",
      "ADMIT = 0 - Mean\n",
      "admit         0.000000\n",
      "gre         573.579336\n",
      "gpa           3.345404\n",
      "prestige      2.641026\n",
      "dtype: float64\n",
      "\n",
      "ADMIT = 0 - Median\n",
      "admit         0.00\n",
      "gre         580.00\n",
      "gpa           3.34\n",
      "prestige      3.00\n",
      "dtype: float64\n",
      "\n",
      "ADMIT = 1 - Mean\n",
      "admit         1.000000\n",
      "gre         618.897638\n",
      "gpa           3.489206\n",
      "prestige      2.150794\n",
      "dtype: float64\n",
      "\n",
      "ADMIT = 1 - Median\n",
      "admit         1.000\n",
      "gre         620.000\n",
      "gpa           3.545\n",
      "prestige      2.000\n",
      "dtype: float64\n"
     ]
    }
   ],
   "source": [
    "#The 0/1 in the admit column are dummy variables for admitted or not admitted. In this case 0 = not admitted and 1 = admitted.\n",
    "#My logic that 1 = admitted is based on higher mean and median GRE scores and GPAs for students that have 1's in the admit column.\n",
    "#It is very unlikely that students with higher mean and median GRE scores and GPAs would be less often admitted to grad school, therefore 1 must equal admitted.\n",
    "\n",
    "overall_gpa_mean = df['gpa'].mean()\n",
    "overall_gre_mean = df['gre'].mean()\n",
    "admit_0_mean = df.loc[df['admit'] == 0].mean()\n",
    "admit_0_median = df.loc[df['admit'] == 0].median()\n",
    "admit_1_mean = df.loc[df['admit'] == 1].mean()\n",
    "admit_1_median = df.loc[df['admit'] == 1].median()\n",
    "\n",
    "print (\"Overall GPA - Mean\")\n",
    "print(df['gpa'].mean())\n",
    "print (\"\")\n",
    "print (\"Overall GRE - Mean\")\n",
    "print(df['gre'].mean())\n",
    "print (\"\")\n",
    "print (\"ADMIT = 0 - Mean\")\n",
    "print (admit_0_mean)\n",
    "print (\"\")\n",
    "print (\"ADMIT = 0 - Median\")\n",
    "print (admit_0_median)\n",
    "print (\"\")\n",
    "print (\"ADMIT = 1 - Mean\")\n",
    "print (admit_1_mean)\n",
    "print (\"\")\n",
    "print (\"ADMIT = 1 - Median\")\n",
    "print (admit_1_median)"
   ]
  },
  {
   "cell_type": "markdown",
   "metadata": {},
   "source": [
    "#### 3. What are the mean/median GPA and GRE scores for those admitted?"
   ]
  },
  {
   "cell_type": "code",
   "execution_count": 34,
   "metadata": {
    "collapsed": false
   },
   "outputs": [
    {
     "name": "stdout",
     "output_type": "stream",
     "text": [
      "0.25    3.13\n",
      "0.75    3.67\n",
      "Name: gpa, dtype: float64\n",
      "0.25    520.0\n",
      "0.75    660.0\n",
      "Name: gre, dtype: float64\n"
     ]
    }
   ],
   "source": [
    "#The mean GPA for admitted students is 3.48\n",
    "#The median GPA for admitted students is 3.54\n",
    "#The mean GRE score for admitted students is 618\n",
    "#The median GRE score for admitted students is 620\n",
    "\n",
    "#Here I am determining the 25% and 75% quantiles for GPA and GRE scores, in order to also understand the best and worst performing students.\n",
    "#I first had to call the dropna()method to execute becuase of missing values in the data.\n",
    "\n",
    "df_full = df.dropna()\n",
    "print(df_full['gpa'].quantile([.25, .75]))\n",
    "print(df_full['gre'].quantile([.25, .75]))"
   ]
  },
  {
   "cell_type": "markdown",
   "metadata": {},
   "source": [
    "#### 4. Which schools do you think are more prestigous, those with a prestige score of 1 or 4? Explain your logic."
   ]
  },
  {
   "cell_type": "code",
   "execution_count": 36,
   "metadata": {
    "collapsed": false
   },
   "outputs": [
    {
     "name": "stdout",
     "output_type": "stream",
     "text": [
      "Prestige = 1\n",
      "admit         0.540984\n",
      "gre         611.803279\n",
      "gpa           3.453115\n",
      "prestige      1.000000\n",
      "dtype: float64\n",
      "\n",
      "Prestige = 2\n",
      "admit         0.353333\n",
      "gre         596.621622\n",
      "gpa           3.364027\n",
      "prestige      2.000000\n",
      "dtype: float64\n",
      "\n",
      "Prestige = 3\n",
      "admit         0.231405\n",
      "gre         574.876033\n",
      "gpa           3.432893\n",
      "prestige      3.000000\n",
      "dtype: float64\n",
      "\n",
      "Prestige = 4\n",
      "admit         0.179104\n",
      "gre         570.149254\n",
      "gpa           3.318358\n",
      "prestige      4.000000\n",
      "dtype: float64\n"
     ]
    }
   ],
   "source": [
    "#The schools with the highest prestige have a score of 4. And the schools with the lowest prestige have a score of 1.\n",
    "#My logic is based on the assumption that schools with the highest prestige have the lowest admission rate -- it's harder to get in!\n",
    "#Based on the data, schools with a prestige score of 4 do have the lowest admission rate (17.9%) and schools with a prestige score of 1 have a much higher admission rate (54%).\n",
    "\n",
    "Prestige_1 = df.loc[df['prestige'] == 1].mean()\n",
    "Prestige_2 = df.loc[df['prestige'] == 2].mean()\n",
    "Prestige_3 = df.loc[df['prestige'] == 3].mean()\n",
    "Prestige_4 = df.loc[df['prestige'] == 4].mean()\n",
    "\n",
    "print (\"Prestige = 1\")\n",
    "print(Prestige_1)\n",
    "print (\"\")\n",
    "print (\"Prestige = 2\")\n",
    "print(Prestige_2)\n",
    "print (\"\")\n",
    "print (\"Prestige = 3\")\n",
    "print(Prestige_3)\n",
    "print (\"\")\n",
    "print (\"Prestige = 4\")\n",
    "print(Prestige_4)"
   ]
  },
  {
   "cell_type": "markdown",
   "metadata": {},
   "source": [
    "#### 5. Create a data dictionary for this dataset."
   ]
  },
  {
   "cell_type": "code",
   "execution_count": null,
   "metadata": {
    "collapsed": true
   },
   "outputs": [],
   "source": [
    "\"\"\"\n",
    "    DATA DICTIONARY\n",
    "    Admit: 0 = not admitted; 1 = admitted\n",
    "    GRE: scores between 200-800\n",
    "    GPA: 0.0 - 4.0\n",
    "    Prestige: 1 = highest prestigious; 2 = high prestige; 3 = low prestige; 4 = lowest prestige\n",
    "\"\"\""
   ]
  }
 ],
 "metadata": {
  "anaconda-cloud": {},
  "kernelspec": {
   "display_name": "Python [Root]",
   "language": "python",
   "name": "Python [Root]"
  },
  "language_info": {
   "codemirror_mode": {
    "name": "ipython",
    "version": 3
   },
   "file_extension": ".py",
   "mimetype": "text/x-python",
   "name": "python",
   "nbconvert_exporter": "python",
   "pygments_lexer": "ipython3",
   "version": "3.5.2"
  }
 },
 "nbformat": 4,
 "nbformat_minor": 0
}
